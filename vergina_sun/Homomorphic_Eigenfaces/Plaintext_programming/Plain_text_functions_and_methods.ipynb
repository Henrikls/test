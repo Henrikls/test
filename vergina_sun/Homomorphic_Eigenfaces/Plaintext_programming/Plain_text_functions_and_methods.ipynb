{
 "cells": [
  {
   "cell_type": "code",
   "execution_count": 1,
   "id": "7d493f1b-d449-46fd-843a-034a140c5673",
   "metadata": {},
   "outputs": [],
   "source": [
    "import numpy as np\n",
    "import sys\n",
    "#https://www.mathdoubts.com/negative-power-rule-proof/"
   ]
  },
  {
   "cell_type": "code",
   "execution_count": 129,
   "id": "1b95f9f2-3b7b-4ab7-9aea-a7450601ba79",
   "metadata": {},
   "outputs": [],
   "source": [
    "def transposium(a):\n",
    "    #making transposed matrix the right size\n",
    "    if a.ndim > 1:\n",
    "        t = np.zeros((len(a[0]), len(a)))\n",
    "        for i in range(len(a)):\n",
    "            for j in range(len(a[0])):\n",
    "                t[j][i] = a[i][j]\n",
    "        return t\n",
    "    else:\n",
    "        return a #can't transpose a 1D array in python\n",
    "       \n",
    "def pow_eig_comb(a):\n",
    "    Big_lamb = np.zeros((c.ndim,1))\n",
    "    Big_w = np.zeros((c.ndim,c.ndim)) #vector is the size of the initial matrix\n",
    "    for i in range(0,a.ndim):\n",
    "        iterations = 100\n",
    "        w_old = 1\n",
    "        x = np.random.rand(a.ndim,1)     #random initial vector \n",
    "        w = x/np.linalg.norm(x)          #scaled random initial vector\n",
    "        for j in range(0,iterations):\n",
    "            x = np.dot(a,w)                #expensive would be nice if replaceable\n",
    "            lambda_new = np.linalg.norm(x) #can't do this on encrypted data but good enough for now (need goldschmidt)\n",
    "            w = x / lambda_new             #need gold_div\n",
    "            if j+2 == iterations:\n",
    "                w_old = w[0]              #used to check if eigenvalue is negative\n",
    "        if (w[0] / w_old) < 0:            #Since they are below 0 then we multiply by -1 due to report stuff\n",
    "            lambda_new = -1*lambda_new    \n",
    "            w = x / lambda_new            #scaling so signs get inverted\n",
    "        Big_lamb[i] = lambda_new          #storing eigenval and vectors in their separate matrices\n",
    "        Big_w[i] = w.T\n",
    "        a = a-lambda_new*w*w.T\n",
    "    return Big_lamb, Big_w\n",
    "\n",
    "#0x5f3759df is generally more accurate than 0x5f375a86 even though it has been proven that the latter has better worst case estimate. \n",
    "#Modified this guys code: https://github.com/ajcr/ajcr.github.io/blob/master/_posts/2016-04-01-fast-inverse-square-root-python.md\n",
    "#it finds the inverse square root of a number x. It gives a very good initial starting point for \n",
    "#goldschimdt square root method.\n",
    "def np_invsqrt(x): \n",
    "    neg_half = -0.5\n",
    "    half3 = 1.5\n",
    "    y = np.float32(x)    \n",
    "    i = y.view(np.int32)\n",
    "    i = np.int32(0x5f3759df) + -1*np.int32(i >> 1) #bit shifting\n",
    "    y = i.view(np.float32)   \n",
    "    y = y * (half3 + (neg_half*x * y * y))\n",
    "    return float(y)\n",
    "\n",
    "#def gold_square(S):\n",
    "#    y = 1 / squ\n",
    "\n",
    "def gold_div(N,D):\n",
    "    F = 1/D            #something later D is one of those initial estimates again wuhuuuu magic-numbers\n",
    "    for i in range(0,4):\n",
    "        N = F*N\n",
    "        D = F*D\n",
    "        F = 2 - D\n",
    "    return N\n"
   ]
  },
  {
   "cell_type": "code",
   "execution_count": 130,
   "id": "cb882546-afc3-48c4-8448-47f2e60d9841",
   "metadata": {},
   "outputs": [
    {
     "name": "stdout",
     "output_type": "stream",
     "text": [
      "----------\n",
      "Eigen Value = -3.0000\n",
      "Eigen Vector: \n",
      "0.447\t\n",
      "-0.894\t\n",
      "----------\n",
      "Eigen Value = 2.0000\n",
      "Eigen Vector: \n",
      "0.894\t\n",
      "0.447\t\n"
     ]
    }
   ],
   "source": [
    "#testing function\n",
    "c = np.array([[1, 2], \n",
    "              [2, -2]])\n",
    "Big_lamb, Big_w = pow_eig_comb(c)\n",
    "\n",
    "for i in range(c.ndim):\n",
    "    print('----------')\n",
    "    print('Eigen Value = %0.4f' %(Big_lamb[i]))\n",
    "    print('Eigen Vector: ')\n",
    "    for j in range(c.ndim):\n",
    "        print('%0.3f\\t' % (Big_w[i][j]))"
   ]
  },
  {
   "cell_type": "code",
   "execution_count": null,
   "id": "92fe7a8e-1071-4b14-9c3d-fd4e48d23822",
   "metadata": {},
   "outputs": [],
   "source": []
  },
  {
   "cell_type": "code",
   "execution_count": null,
   "id": "d7646b7d-bcf7-40c9-83ce-707557994b63",
   "metadata": {},
   "outputs": [],
   "source": []
  },
  {
   "cell_type": "code",
   "execution_count": null,
   "id": "68641835-6d05-420b-9578-2cce58465cc4",
   "metadata": {},
   "outputs": [],
   "source": []
  },
  {
   "cell_type": "code",
   "execution_count": null,
   "id": "3f07e684-0b68-41dc-acee-f1c7a67dfe7c",
   "metadata": {},
   "outputs": [],
   "source": []
  }
 ],
 "metadata": {
  "kernelspec": {
   "display_name": "Python 3",
   "language": "python",
   "name": "python3"
  },
  "language_info": {
   "codemirror_mode": {
    "name": "ipython",
    "version": 3
   },
   "file_extension": ".py",
   "mimetype": "text/x-python",
   "name": "python",
   "nbconvert_exporter": "python",
   "pygments_lexer": "ipython3",
   "version": "3.8.8"
  }
 },
 "nbformat": 4,
 "nbformat_minor": 5
}
